{
 "cells": [
  {
   "cell_type": "code",
   "execution_count": 1,
   "id": "f4808b66",
   "metadata": {},
   "outputs": [
    {
     "name": "stderr",
     "output_type": "stream",
     "text": [
      "<ipython-input-1-e38879540daa>:3: MatplotlibDeprecationWarning: The seaborn styles shipped by Matplotlib are deprecated since 3.6, as they no longer correspond to the styles shipped by seaborn. However, they will remain available as 'seaborn-v0_8-<style>'. Alternatively, directly use the seaborn API instead.\n",
      "  plt.style.use('seaborn') # I personally prefer seaborn for the graph style, but you may choose whichever you want.\n"
     ]
    }
   ],
   "source": [
    "import matplotlib.pyplot as plt\n",
    "\n",
    "plt.style.use('seaborn') # I personally prefer seaborn for the graph style, but you may choose whichever you want.\n",
    "params = {\"ytick.color\" : \"black\",\n",
    "          \"xtick.color\" : \"black\",\n",
    "          \"axes.labelcolor\" : \"black\",\n",
    "          \"axes.edgecolor\" : \"black\",\n",
    "          \"text.usetex\" : True,\n",
    "          \"font.family\" : \"serif\",\n",
    "          \"font.serif\" : [\"Computer Modern Serif\"]}\n",
    "plt.rcParams.update(params)"
   ]
  },
  {
   "cell_type": "code",
   "execution_count": 3,
   "id": "db11bbc5",
   "metadata": {},
   "outputs": [],
   "source": [
    "def extractor(fname, start, stop):\n",
    "    accuracy = []\n",
    "    values = {\"name\":[],\"snr\":[],\"examples\":[],\"loss\":[],\"accuracy\":[],\"time\":[],'nacc':[],'nsnr':[]}\n",
    "    with open(fname) as f:\n",
    "        lines = f.readlines()\n",
    "        for i in range(start, stop, 5):\n",
    "            ctype=lines[i]\n",
    "            ctype=ctype.split(' ')\n",
    "\n",
    "            circ=ctype[5]#\n",
    "            snr = ctype[15]\n",
    "            snr = snr.strip('\\n')\n",
    "            nsnr= float(snr)\n",
    "            values[\"nsnr\"].append(nsnr)\n",
    "            loss=lines[i+1]\n",
    "            time = lines[i+2]\n",
    "            acc=lines[i+3]\n",
    "            examples = ctype[12]\n",
    "      \n",
    "            acc=acc.split(':')\n",
    "            acc=acc[1]\n",
    "            acc=acc.replace(\"\\n\",\"\")\n",
    "            acc=float(acc)\n",
    "            values[\"nacc\"].append(acc)\n",
    "            acc=acc*100\n",
    "            \n",
    "            acc=round(acc,2)\n",
    "            accuracy.append(acc)\n",
    "            acc=str(acc) + '%' \n",
    "\n",
    "            loss=loss.replace(\"]\",\"\")\n",
    "            loss=loss.replace(\"[\",\"\")\n",
    "            loss=loss.replace(\"\\n\",\"\")\n",
    "            data=[float(x) for x in loss.strip().split(',')]\n",
    "\n",
    "            time=time.split(' ')\n",
    "            time=time[2]\n",
    "            time=time.replace('seconds.cc', '')\n",
    "            time = round(float(time), 2)\n",
    "           \n",
    "            values[\"name\"].append(circ)\n",
    "            values[\"snr\"].append(snr)\n",
    "            values[\"examples\"].append(examples)\n",
    "            values[\"loss\"].append(data)\n",
    "            values[\"accuracy\"].append(acc)\n",
    "            values[\"time\"].append(time)\n",
    "\n",
    "    return(values)\n",
    "\n",
    "def cnn_extractor(fname, start, stop):\n",
    "    accuracy = []\n",
    "    values = {\"name\":[],\"snr\":[],\"examples\":[],\"loss\":[],\"accuracy\":[],\"time\":[],'nacc':[],'nsnr':[]}\n",
    "    with open(fname) as f:\n",
    "        lines = f.readlines()\n",
    "        for i in range(start, stop, 5):\n",
    "            ctype=lines[i]\n",
    "            ctype=ctype.split(' ')\n",
    "            #print(ctype)\n",
    "            circ=ctype[3]#\n",
    "            \n",
    "            snr = ctype[5]\n",
    "            snr = snr.strip('\\n')\n",
    "            snr = snr.strip(':')\n",
    "            #print(snr)\n",
    "            nsnr= float(snr)\n",
    "            values[\"nsnr\"].append(nsnr)\n",
    "            loss=lines[i+1]\n",
    "            #print(loss)\n",
    "            #time = lines[i+2]\n",
    "            acc=lines[i+2]\n",
    "            \n",
    "            #examples = ctype[12]\n",
    "            #print(examples)\n",
    "            acc=acc.split(':')\n",
    "            acc=acc[1]\n",
    "            acc=acc.replace(\"\\n\",\"\")\n",
    "            acc=float(acc)\n",
    "            values[\"nacc\"].append(acc)\n",
    "            acc=acc*100\n",
    "            \n",
    "            acc=round(acc,2)\n",
    "            accuracy.append(acc)\n",
    "            acc=str(acc) + '%' \n",
    "\n",
    "            loss=loss.replace(\"]\",\"\")\n",
    "            loss=loss.replace(\"[\",\"\")\n",
    "            loss=loss.replace(\"\\n\",\"\")\n",
    "            data=[float(x) for x in loss.strip().split(',')]\n",
    "\n",
    "            #time=time.split(' ')\n",
    "            #time=time[2]\n",
    "            #time=time.replace('seconds.cc', '')\n",
    "            #time = round(float(time), 2)\n",
    "           \n",
    "            values[\"name\"].append(circ)\n",
    "            values[\"snr\"].append(snr)\n",
    "            #values[\"examples\"].append(examples)\n",
    "            values[\"loss\"].append(data)\n",
    "            values[\"accuracy\"].append(acc)\n",
    "            #values[\"time\"].append(time)\n",
    "\n",
    "    return(values)"
   ]
  },
  {
   "cell_type": "code",
   "execution_count": 4,
   "id": "55e80e54",
   "metadata": {},
   "outputs": [],
   "source": [
    "cnn_10 = cnn_extractor(r'C:\\Users\\ivoll\\OneDrive\\Documents\\qml_sin-3 copy\\CNN New\\result_CNN_noise_f10_n0.5 nophase 1000.txt',0,200)\n",
    "\n",
    "cnn_2 = cnn_extractor(r'C:\\Users\\ivoll\\OneDrive\\Documents\\qml_sin-3 copy\\CNN New\\result_CNN_noise_f2_n0.5.txt',0,200)\n",
    "\n",
    "regu_14_10= extractor(r'C:\\Users\\ivoll\\OneDrive\\Documents\\qml_sin-3 copy\\Result\\Final_Results1\\Reg Results U_14_with_f10_n0.5_0-30.txt',0,210)\n",
    "\n",
    "regu_14_2= extractor(r'C:\\Users\\ivoll\\OneDrive\\Documents\\qml_sin-3 copy\\Result\\Final_Results1\\Reg Results U_14_with_f2_n0.5_0-30.txt',0,190)\n"
   ]
  },
  {
   "cell_type": "code",
   "execution_count": null,
   "id": "623a2d19",
   "metadata": {},
   "outputs": [
    {
     "data": {
      "text/plain": [
       "[]"
      ]
     },
     "execution_count": 5,
     "metadata": {},
     "output_type": "execute_result"
    }
   ],
   "source": [
    "j=3\n",
    "plt.title(regu_14_10['name'][j])\n",
    "plt.plot(regu_14_10['loss'][j], label='SNR: '+str(regu_14_10['snr'][j])+' Accuracy '+regu_14_10['accuracy'][j])\n",
    "plt.plot()"
   ]
  },
  {
   "cell_type": "code",
   "execution_count": 1,
   "id": "7bc18d5c",
   "metadata": {},
   "outputs": [
    {
     "data": {
      "image/png": "[encoded data removed]",
      "text/plain": [
       "<Figure size 432x288 with 1 Axes>"
      ]
     },
     "metadata": {
      "needs_background": "light"
     },
     "output_type": "display_data"
    }
   ],
   "source": [
    "import matplotlib as mpl\n",
    "import matplotlib.font_manager as font_manager\n",
    "\n",
    "mpl.rcParams['font.family']='serif'\n",
    "cmfont = font_manager.FontProperties(fname=mpl.get_data_path() + '/fonts/ttf/cmr10.ttf')\n",
    "mpl.rcParams['font.serif']=cmfont.get_name()\n",
    "mpl.rcParams['mathtext.fontset']='cm'\n",
    "mpl.rcParams['axes.unicode_minus']=False\n",
    "import matplotlib.pyplot as plt\n",
    "\n",
    "plt.plot([-1,2,3],[4,3,4])\n",
    "plt.text(1.5,4,'Hello!')\n",
    "plt.show()"
   ]
  }
 ],
 "metadata": {
  "kernelspec": {
   "display_name": "Python 3",
   "language": "python",
   "name": "python3"
  },
  "language_info": {
   "codemirror_mode": {
    "name": "ipython",
    "version": 3
   },
   "file_extension": ".py",
   "mimetype": "text/x-python",
   "name": "python",
   "nbconvert_exporter": "python",
   "pygments_lexer": "ipython3",
   "version": "3.8.8"
  }
 },
 "nbformat": 4,
 "nbformat_minor": 5
}
